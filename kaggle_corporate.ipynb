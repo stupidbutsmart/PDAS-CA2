{
 "cells": [
  {
   "cell_type": "code",
   "execution_count": 29,
   "metadata": {},
   "outputs": [],
   "source": [
    "# importing modules\n",
    "import pandas as pd\n",
    "import numpy as np\n",
    "import matplotlib.pyplot as plt\n",
    "import seaborn as sns\n",
    "import warnings\n",
    "import statsmodels.api as sm\n",
    "warnings.filterwarnings('ignore')"
   ]
  },
  {
   "cell_type": "code",
   "execution_count": 48,
   "metadata": {},
   "outputs": [
    {
     "name": "stdout",
     "output_type": "stream",
     "text": [
      "<class 'pandas.core.frame.DataFrame'>\n",
      "RangeIndex: 50000 entries, 0 to 49999\n",
      "Data columns (total 30 columns):\n",
      " #   Column                            Non-Null Count  Dtype  \n",
      "---  ------                            --------------  -----  \n",
      " 0   ID                                50000 non-null  int64  \n",
      " 1   Age                               50000 non-null  int64  \n",
      " 2   Gender                            50000 non-null  object \n",
      " 3   Marital_Status                    50000 non-null  object \n",
      " 4   Job_Role                          50000 non-null  object \n",
      " 5   Experience_Years                  50000 non-null  int64  \n",
      " 6   Monthly_Salary_INR                50000 non-null  float64\n",
      " 7   Working_Hours_per_Week            50000 non-null  int64  \n",
      " 8   Commute_Time_Hours                50000 non-null  float64\n",
      " 9   Remote_Work                       50000 non-null  bool   \n",
      " 10  Stress_Level                      50000 non-null  int64  \n",
      " 11  Health_Issues                     37459 non-null  object \n",
      " 12  Company_Size                      50000 non-null  object \n",
      " 13  Department                        50000 non-null  object \n",
      " 14  Sleep_Hours                       50000 non-null  float64\n",
      " 15  Physical_Activity_Hours_per_Week  50000 non-null  float64\n",
      " 16  Mental_Health_Leave_Taken         50000 non-null  bool   \n",
      " 17  Manager_Support_Level             50000 non-null  int64  \n",
      " 18  Work_Pressure_Level               50000 non-null  int64  \n",
      " 19  Annual_Leaves_Taken               50000 non-null  int64  \n",
      " 20  Work_Life_Balance                 50000 non-null  int64  \n",
      " 21  Family_Support_Level              50000 non-null  int64  \n",
      " 22  Job_Satisfaction                  50000 non-null  int64  \n",
      " 23  Performance_Rating                50000 non-null  int64  \n",
      " 24  Team_Size                         50000 non-null  int64  \n",
      " 25  Training_Opportunities            50000 non-null  bool   \n",
      " 26  Gender_Bias_Experienced           50000 non-null  bool   \n",
      " 27  Discrimination_Experienced        50000 non-null  bool   \n",
      " 28  Burnout_Symptoms                  50000 non-null  object \n",
      " 29  Location                          50000 non-null  object \n",
      "dtypes: bool(5), float64(4), int64(13), object(8)\n",
      "memory usage: 9.8+ MB\n"
     ]
    },
    {
     "data": {
      "text/plain": [
       "(   ID  Age      Gender Marital_Status   Job_Role  Experience_Years  \\\n",
       " 0   1   56  Non-Binary        Widowed  Developer                 5   \n",
       " 1   2   46      Female         Single    Analyst                20   \n",
       " 2   3   32      Female         Single  Developer                10   \n",
       " 3   4   60      Female       Divorced    Analyst                26   \n",
       " 4   5   25        Male        Married      Sales                29   \n",
       " \n",
       "    Monthly_Salary_INR  Working_Hours_per_Week  Commute_Time_Hours  \\\n",
       " 0           102703.08                      44                1.72   \n",
       " 1           165583.91                      54                0.62   \n",
       " 2            38005.39                      81                1.22   \n",
       " 3            51127.36                      79                2.03   \n",
       " 4           174597.45                      63                1.45   \n",
       " \n",
       "    Remote_Work  ...  Work_Life_Balance Family_Support_Level Job_Satisfaction  \\\n",
       " 0         True  ...                  9                    2                5   \n",
       " 1         True  ...                  9                    1               10   \n",
       " 2        False  ...                  6                    1                1   \n",
       " 3        False  ...                  8                   10                5   \n",
       " 4         True  ...                  3                    1                9   \n",
       " \n",
       "   Performance_Rating  Team_Size  Training_Opportunities  \\\n",
       " 0                 10         38                   False   \n",
       " 1                  9         72                    True   \n",
       " 2                  1         67                   False   \n",
       " 3                 10         98                    True   \n",
       " 4                  2         85                    True   \n",
       " \n",
       "    Gender_Bias_Experienced  Discrimination_Experienced  Burnout_Symptoms  \\\n",
       " 0                     True                        True                No   \n",
       " 1                     True                        True                No   \n",
       " 2                    False                       False               Yes   \n",
       " 3                     True                       False               Yes   \n",
       " 4                    False                       False                No   \n",
       " \n",
       "    Location  \n",
       " 0    Tier-3  \n",
       " 1    Tier-3  \n",
       " 2     Metro  \n",
       " 3     Metro  \n",
       " 4    Tier-1  \n",
       " \n",
       " [5 rows x 30 columns],\n",
       " None)"
      ]
     },
     "execution_count": 48,
     "metadata": {},
     "output_type": "execute_result"
    }
   ],
   "source": [
    "df = pd.read_csv('./datasets/corporate_stress_dataset.csv')\n",
    "dataset = df.copy()\n",
    "dataset.head(5), dataset.info()\n"
   ]
  },
  {
   "cell_type": "code",
   "execution_count": 37,
   "metadata": {},
   "outputs": [
    {
     "name": "stdout",
     "output_type": "stream",
     "text": [
      "<class 'pandas.core.frame.DataFrame'>\n",
      "Index: 25079 entries, 0 to 49996\n",
      "Data columns (total 8 columns):\n",
      " #   Column                  Non-Null Count  Dtype  \n",
      "---  ------                  --------------  -----  \n",
      " 0   Job_Role                25079 non-null  object \n",
      " 1   Experience_Years        25079 non-null  int64  \n",
      " 2   Monthly_Salary_INR      25079 non-null  float64\n",
      " 3   Work_Life_Balance       25079 non-null  int64  \n",
      " 4   Job_Satisfaction        25079 non-null  int64  \n",
      " 5   Training_Opportunities  25079 non-null  bool   \n",
      " 6   Performance_Rating      25079 non-null  int64  \n",
      " 7   Industry                25079 non-null  object \n",
      "dtypes: bool(1), float64(1), int64(4), object(2)\n",
      "memory usage: 1.6+ MB\n",
      "        Job_Role  Experience_Years  Monthly_Salary_INR  Work_Life_Balance  \\\n",
      "49975  Developer                40           192462.21                  5   \n",
      "49978    Analyst                18           188594.12                  6   \n",
      "49979  Developer                40           101926.23                  6   \n",
      "49982  Developer                40            96755.52                  0   \n",
      "49987  Developer                35            64348.47                  8   \n",
      "49994      Sales                 7            38252.85                  1   \n",
      "49996    Analyst                31           117925.92                 10   \n",
      "\n",
      "       Job_Satisfaction  Training_Opportunities  Performance_Rating  \\\n",
      "49975                 1                   False                   0   \n",
      "49978                 3                   False                   5   \n",
      "49979                 7                    True                   6   \n",
      "49982                 2                    True                   3   \n",
      "49987                 7                    True                   8   \n",
      "49994                 9                   False                   5   \n",
      "49996                 0                    True                   4   \n",
      "\n",
      "         Industry  \n",
      "49975  Technology  \n",
      "49978     Finance  \n",
      "49979  Technology  \n",
      "49982  Technology  \n",
      "49987  Technology  \n",
      "49994    Business  \n",
      "49996     Finance   None\n"
     ]
    }
   ],
   "source": [
    "relevant_columns = [\n",
    "    \"Job_Role\", \"Experience_Years\", \"Monthly_Salary_INR\", \n",
    "    \"Work_Life_Balance\", \"Job_Satisfaction\", \"Training_Opportunities\",\n",
    "    \"Performance_Rating\"\n",
    "]\n",
    "df_selected = df[relevant_columns]\n",
    "\n",
    "# mapping for industires (split jobs to relevant industires)\n",
    "industry_mapping = {\n",
    "    \"Developer\": \"Technology\", \"Analyst\": \"Finance\", \"Sales\": \"Business\",\n",
    "    \"Doctor\": \"Healthcare\", \"Nurse\": \"Healthcare\", \"Engineer\": \"Engineering\",\n",
    "    \"Scientist\": \"Research\", \"Teacher\": \"Education\", \"Professor\": \"Education\",\n",
    "    \"Lawyer\": \"Law\", \"Accountant\": \"Finance\", \"Marketing Manager\": \"Business\",\n",
    "    \"Consultant\": \"Consulting\", \"HR Manager\": \"Human Resources\", \"Data Scientist\": \"Technology\",\n",
    "    \"Product Manager\": \"Technology\", \"Cybersecurity Analyst\": \"Technology\", \"Graphic Designer\": \"Creative\",\n",
    "    \"Journalist\": \"Media\", \"Pharmacist\": \"Healthcare\"\n",
    "}\n",
    "\n",
    "df_selected[\"Industry\"] = df_selected[\"Job_Role\"].map(industry_mapping)\n",
    "df_selected = df_selected.dropna(subset=[\"Industry\"])\n",
    "print(df_selected.tail(7), df_selected.info())"
   ]
  },
  {
   "cell_type": "code",
   "execution_count": null,
   "metadata": {},
   "outputs": [],
   "source": []
  },
  {
   "cell_type": "code",
   "execution_count": null,
   "metadata": {},
   "outputs": [],
   "source": []
  },
  {
   "cell_type": "code",
   "execution_count": null,
   "metadata": {},
   "outputs": [],
   "source": []
  }
 ],
 "metadata": {
  "kernelspec": {
   "display_name": "Python 3 (ipykernel)",
   "language": "python",
   "name": "python3"
  },
  "language_info": {
   "codemirror_mode": {
    "name": "ipython",
    "version": 3
   },
   "file_extension": ".py",
   "mimetype": "text/x-python",
   "name": "python",
   "nbconvert_exporter": "python",
   "pygments_lexer": "ipython3",
   "version": "3.12.4"
  }
 },
 "nbformat": 4,
 "nbformat_minor": 4
}
